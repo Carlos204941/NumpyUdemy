{
 "cells": [
  {
   "cell_type": "code",
   "execution_count": null,
   "metadata": {},
   "outputs": [],
   "source": []
  },
  {
   "cell_type": "markdown",
   "metadata": {},
   "source": [
    "function Plot in numpy\n",
    "\n",
    "  \n",
    "\n",
    "###### **ANSWER | GPT-4O MODEL**\n",
    "\n",
    "### Plotting Functions in NumPy Using Matplotlib\n",
    "\n",
    "Matplotlib is a powerful plotting library in Python that works seamlessly with NumPy to create a wide variety of plots. It is often used as an open-source alternative to MATLAB for plotting 2D data. Below, we'll explore how to plot functions using NumPy and Matplotlib.\n",
    "\n",
    "### Key Points to Consider\n",
    "\n",
    "1.  Importing Libraries: You need to import both NumPy and Matplotlib libraries.\n",
    "2.  Creating Data: Use NumPy to create arrays of data points.\n",
    "3.  Plotting: Use Matplotlib's `pyplot` module to create and customize plots.\n",
    "4.  Displaying the Plot: Use `plt.show()` to display the plot.\n",
    "\n",
    "### Basic Plotting Example\n",
    "\n",
    "Let's start with a simple example where we plot a linear function ( y = 2x + 5 )."
   ]
  },
  {
   "cell_type": "code",
   "execution_count": null,
   "metadata": {},
   "outputs": [],
   "source": [
    "import numpy as np\n",
    "from matplotlib import pyplot as plt\n",
    "\n",
    "# Create data points\n",
    "x = np.arange(1, 11)\n",
    "y = 2 * x + 5\n",
    "\n",
    "# Plotting\n",
    "plt.title(\"Linear Function Plot\")\n",
    "plt.xlabel(\"x axis\")\n",
    "plt.ylabel(\"y axis\")\n",
    "plt.plot(x, y)\n",
    "plt.show()\n"
   ]
  },
  {
   "cell_type": "markdown",
   "metadata": {},
   "source": [
    "### Plotting a Sine Wave\n",
    "\n",
    "Next, let's plot a sine wave using NumPy and Matplotlib."
   ]
  },
  {
   "cell_type": "code",
   "execution_count": null,
   "metadata": {},
   "outputs": [],
   "source": [
    "import numpy as np\n",
    "import matplotlib.pyplot as plt\n",
    "\n",
    "# Create data points\n",
    "x = np.arange(0, 3 * np.pi, 0.1)\n",
    "y = np.sin(x)\n",
    "\n",
    "# Plotting\n",
    "plt.title(\"Sine Wave\")\n",
    "plt.xlabel(\"x axis\")\n",
    "plt.ylabel(\"y axis\")\n",
    "plt.plot(x, y)\n",
    "plt.show()\n"
   ]
  },
  {
   "cell_type": "markdown",
   "metadata": {},
   "source": [
    "### Plotting Multiple Functions\n",
    "\n",
    "### You can also plot multiple functions in the same figure using subplots."
   ]
  },
  {
   "cell_type": "code",
   "execution_count": null,
   "metadata": {},
   "outputs": [],
   "source": [
    "import numpy as np\n",
    "import matplotlib.pyplot as plt\n",
    "\n",
    "# Create data points\n",
    "x = np.arange(0, 3 * np.pi, 0.1)\n",
    "y_sin = np.sin(x)\n",
    "y_cos = np.cos(x)\n",
    "\n",
    "# Create subplots\n",
    "plt.subplot(2, 1, 1)\n",
    "plt.plot(x, y_sin)\n",
    "plt.title('Sine')\n",
    "\n",
    "plt.subplot(2, 1, 2)\n",
    "plt.plot(x, y_cos)\n",
    "plt.title('Cosine')\n",
    "\n",
    "# Display the plot\n",
    "plt.show()\n"
   ]
  },
  {
   "cell_type": "markdown",
   "metadata": {},
   "source": [
    "### Plotting a User-Defined Function\n",
    "\n",
    "### You can also plot a function defined using `def` in Python."
   ]
  },
  {
   "cell_type": "code",
   "execution_count": null,
   "metadata": {},
   "outputs": [],
   "source": [
    "import numpy as np\n",
    "from matplotlib import pyplot as plt\n",
    "\n",
    "# Define the function\n",
    "def f(x):\n",
    "    return np.sin(x) + x + x * np.sin(x)\n",
    "\n",
    "# Create data points\n",
    "x = np.linspace(-10, 10, 100)\n",
    "\n",
    "# Plotting\n",
    "plt.title(\"Custom Function Plot\")\n",
    "plt.xlabel(\"x axis\")\n",
    "plt.ylabel(\"y axis\")\n",
    "plt.plot(x, f(x), color='red')\n",
    "plt.show()\n"
   ]
  },
  {
   "cell_type": "markdown",
   "metadata": {},
   "source": [
    "### Summary\n",
    "\n",
    "In this guide, we covered how to plot functions using NumPy and Matplotlib. We started with basic linear plots, moved on to sine waves, and then explored plotting multiple functions and user-defined functions.\n",
    "\n",
    "### By leveraging these tools, you can create a wide variety of plots to visualize your data effectively. Always remember to label your axes and provide a title for better readability and understanding of the plots."
   ]
  }
 ],
 "metadata": {
  "language_info": {
   "name": "python"
  }
 },
 "nbformat": 4,
 "nbformat_minor": 2
}
