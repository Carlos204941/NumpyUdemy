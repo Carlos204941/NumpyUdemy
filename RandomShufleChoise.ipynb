{
 "cells": [
  {
   "cell_type": "markdown",
   "metadata": {},
   "source": [
    "###   \n",
    "\n",
    "###### **ANSWER | GPT-4O MODEL**\n",
    "\n",
    "### Random, Shuffle, and Choice in NumPy\n",
    "\n",
    "NumPy provides powerful tools for generating random numbers, shuffling arrays, and making random selections. These functionalities are essential for simulations, data analysis, and various scientific computations.\n",
    "\n",
    "### Key Functions\n",
    "\n",
    "1.  `numpy.random.choice`: Generates a random sample from a given array.\n",
    "2.  `numpy.random.shuffle`: Shuffles the elements of an array in place.\n",
    "3.  `numpy.random.permutation`: Returns a permuted sequence or array.\n",
    "\n",
    "### `numpy.random.choice`\n",
    "\n",
    "The `choice` function generates a random sample from a given 1-D array. It can sample with or without replacement and can also handle custom probabilities for each element.\n",
    "\n",
    "#### Basic Usage\n",
    "\n",
    "###"
   ]
  },
  {
   "cell_type": "code",
   "execution_count": null,
   "metadata": {},
   "outputs": [],
   "source": [
    "import numpy as np\n",
    "\n",
    "# Create an RNG instance\n",
    "rng = np.random.default_rng()\n",
    "\n",
    "# Generate a random sample from np.arange(5) of size 3\n",
    "sample = rng.choice(5, 3)\n",
    "print(\"Random sample:\", sample)\n"
   ]
  },
  {
   "cell_type": "markdown",
   "metadata": {},
   "source": [
    "######   \n",
    "\n",
    "#### Sampling Without Replacement\n",
    "\n",
    "###"
   ]
  },
  {
   "cell_type": "code",
   "execution_count": null,
   "metadata": {},
   "outputs": [],
   "source": [
    "# Generate a random sample without replacement\n",
    "sample_no_replace = rng.choice(5, 3, replace=False)\n",
    "print(\"Random sample without replacement:\", sample_no_replace)\n"
   ]
  },
  {
   "cell_type": "markdown",
   "metadata": {},
   "source": [
    "######   \n",
    "\n",
    "#### Custom Probabilities\n",
    "\n",
    "###"
   ]
  },
  {
   "cell_type": "code",
   "execution_count": null,
   "metadata": {},
   "outputs": [],
   "source": [
    "# Generate a non-uniform random sample with custom probabilities\n",
    "sample_custom_prob = rng.choice(5, 3, p=[0.1, 0, 0.3, 0.6, 0])\n",
    "print(\"Random sample with custom probabilities:\", sample_custom_prob)\n"
   ]
  },
  {
   "cell_type": "markdown",
   "metadata": {},
   "source": [
    "######   \n",
    "\n",
    "#### Using an Arbitrary Array\n",
    "\n",
    "####   \n",
    "\n",
    "###"
   ]
  },
  {
   "cell_type": "code",
   "execution_count": null,
   "metadata": {},
   "outputs": [],
   "source": [
    "# Generate a random sample from an arbitrary array\n",
    "aa_milne_arr = ['pooh', 'rabbit', 'piglet', 'Christopher']\n",
    "sample_aa = rng.choice(aa_milne_arr, 5, p=[0.5, 0.1, 0.1, 0.3])\n",
    "print(\"Random sample from arbitrary array:\", sample_aa)\n"
   ]
  },
  {
   "cell_type": "markdown",
   "metadata": {},
   "source": [
    "######   \n",
    "\n",
    "### `numpy.random.shuffle`\n",
    "\n",
    "The `shuffle` function shuffles the elements of an array in place. For multi-dimensional arrays, it only shuffles along the first axis.\n",
    "\n",
    "#### Basic Usage\n",
    "\n",
    "###"
   ]
  },
  {
   "cell_type": "code",
   "execution_count": null,
   "metadata": {},
   "outputs": [],
   "source": [
    "# Create an array\n",
    "arr = np.arange(10)\n",
    "print(\"Original array:\", arr)\n",
    "\n",
    "# Shuffle the array\n",
    "rng.shuffle(arr)\n",
    "print(\"Shuffled array:\", arr)\n"
   ]
  },
  {
   "cell_type": "markdown",
   "metadata": {},
   "source": [
    "######   \n",
    "\n",
    "#### Shuffling Multi-Dimensional Arrays\n",
    "\n",
    "###"
   ]
  },
  {
   "cell_type": "code",
   "execution_count": null,
   "metadata": {},
   "outputs": [],
   "source": [
    "# Create a 3x3 array\n",
    "arr_2d = np.arange(9).reshape((3, 3))\n",
    "print(\"Original 2D array:\\n\", arr_2d)\n",
    "\n",
    "# Shuffle the array along the first axis\n",
    "rng.shuffle(arr_2d)\n",
    "print(\"Shuffled 2D array along the first axis:\\n\", arr_2d)\n",
    "\n",
    "# Shuffle the array along the second axis\n",
    "rng.shuffle(arr_2d, axis=1)\n",
    "print(\"Shuffled 2D array along the second axis:\\n\", arr_2d)\n"
   ]
  },
  {
   "cell_type": "markdown",
   "metadata": {},
   "source": [
    "######   \n",
    "\n",
    "####   \n",
    "\n",
    "### `numpy.random.permutation`\n",
    "\n",
    "The `permutation` function returns a permuted sequence or array without modifying the original array.\n",
    "\n",
    "#### Basic Usage\n",
    "\n",
    "###"
   ]
  },
  {
   "cell_type": "code",
   "execution_count": null,
   "metadata": {},
   "outputs": [],
   "source": [
    "# Create an array\n",
    "arr = np.arange(10)\n",
    "print(\"Original array:\", arr)\n",
    "\n",
    "# Get a permuted array\n",
    "permuted_arr = rng.permutation(arr)\n",
    "print(\"Permuted array:\", permuted_arr)\n"
   ]
  },
  {
   "cell_type": "markdown",
   "metadata": {},
   "source": [
    "######   \n",
    "\n",
    "####   \n",
    "\n",
    "### Summary\n",
    "\n",
    "In this guide, we covered the basics of generating random samples, shuffling arrays, and creating permutations using NumPy. We explored the `choice`, `shuffle`, and `permutation` functions, demonstrating their usage with various examples.\n",
    "\n",
    "### By leveraging these functions, you can perform a wide range of random operations efficiently, which are essential for simulations, data analysis, and scientific computations."
   ]
  }
 ],
 "metadata": {
  "language_info": {
   "name": "python"
  }
 },
 "nbformat": 4,
 "nbformat_minor": 2
}
