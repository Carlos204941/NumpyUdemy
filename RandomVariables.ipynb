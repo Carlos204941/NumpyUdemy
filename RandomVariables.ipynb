{
 "cells": [
  {
   "cell_type": "markdown",
   "metadata": {},
   "source": [
    "### Generating Correlated Random Variables Using NumPy\n",
    "\n",
    "Yes, it is possible to generate correlated random variables using NumPy. This can be achieved using the `numpy.random.multivariate_normal` function, which allows you to generate samples from a multivariate normal distribution. The key to generating correlated random variables is to specify the desired covariance matrix.\n",
    "\n",
    "### Key Points to Consider\n",
    "\n",
    "1.  Covariance Matrix: The covariance matrix defines the correlations between the variables. It must be positive semi-definite.\n",
    "2.  Mean Vector: The mean vector specifies the mean of each variable.\n",
    "3.  Cholesky Decomposition: An alternative method to generate correlated variables is to use the Cholesky decomposition of the covariance matrix.\n",
    "\n",
    "### Example Using `numpy.random.multivariate_normal`\n",
    "\n",
    "#### Step-by-Step Implementation\n",
    "\n",
    "1.  Define the Mean Vector and Covariance Matrix: Specify the mean and covariance for the multivariate normal distribution.\n",
    "2.  Generate Samples: Use `numpy.random.multivariate_normal` to generate the correlated samples.\n",
    "3.  Visualize the Results: Plot the samples to visualize the correlation.\n",
    "\n",
    "###"
   ]
  },
  {
   "cell_type": "code",
   "execution_count": null,
   "metadata": {},
   "outputs": [],
   "source": [
    "import numpy as np\n",
    "import matplotlib.pyplot as plt\n",
    "\n",
    "# Define the mean vector and covariance matrix\n",
    "mean = [0, 0]\n",
    "cov = [[1, 0.8], [0.8, 1]]  # Covariance matrix with correlation 0.8\n",
    "\n",
    "# Generate samples\n",
    "rng = np.random.default_rng()\n",
    "samples = rng.multivariate_normal(mean, cov, 1000)\n",
    "\n",
    "# Estimate the correlation matrix of the generated samples\n",
    "estimated_corr = np.corrcoef(samples, rowvar=False)\n",
    "print(\"Estimated Correlation Matrix:\\n\", estimated_corr)\n",
    "\n",
    "# Plot the samples\n",
    "plt.scatter(samples[:, 0], samples[:, 1], alpha=0.5)\n",
    "plt.title(\"Scatter Plot of Correlated Samples\")\n",
    "plt.xlabel(\"X\")\n",
    "plt.ylabel(\"Y\")\n",
    "plt.grid(True)\n",
    "plt.show()\n"
   ]
  },
  {
   "cell_type": "markdown",
   "metadata": {},
   "source": [
    "###   \n",
    "\n",
    "### Example Using Cholesky Decomposition\n",
    "\n",
    "#### Step-by-Step Implementation\n",
    "\n",
    "1.  Define the Covariance Matrix: Specify the covariance matrix.\n",
    "2.  Perform Cholesky Decomposition: Decompose the covariance matrix.\n",
    "3.  Generate Uncorrelated Samples: Generate samples from a standard normal distribution.\n",
    "4.  Transform to Correlated Samples: Multiply the uncorrelated samples by the Cholesky factor.\n",
    "\n",
    "#### Example Code\n",
    "\n",
    "###"
   ]
  },
  {
   "cell_type": "code",
   "execution_count": null,
   "metadata": {},
   "outputs": [],
   "source": [
    "import numpy as np\n",
    "import matplotlib.pyplot as plt\n",
    "\n",
    "# Define the covariance matrix\n",
    "cov_matrix = np.array([[1.0, 0.8], [0.8, 1.0]])\n",
    "\n",
    "# Perform Cholesky decomposition\n",
    "L = np.linalg.cholesky(cov_matrix)\n",
    "\n",
    "# Generate uncorrelated samples\n",
    "uncorrelated_samples = np.random.normal(size=(2, 1000))\n",
    "\n",
    "# Transform to correlated samples\n",
    "correlated_samples = L @ uncorrelated_samples\n",
    "\n",
    "# Estimate the correlation matrix of the generated samples\n",
    "estimated_corr = np.corrcoef(correlated_samples)\n",
    "print(\"Estimated Correlation Matrix:\\n\", estimated_corr)\n",
    "\n",
    "# Plot the samples\n",
    "plt.scatter(correlated_samples[0], correlated_samples[1], alpha=0.5)\n",
    "plt.title(\"Scatter Plot of Correlated Samples (Cholesky Decomposition)\")\n",
    "plt.xlabel(\"X\")\n",
    "plt.ylabel(\"Y\")\n",
    "plt.grid(True)\n",
    "plt.show()\n"
   ]
  },
  {
   "cell_type": "markdown",
   "metadata": {},
   "source": [
    "###   \n",
    "\n",
    "### Summary\n",
    "\n",
    "In this guide, we covered how to generate correlated random variables using NumPy. We explored two methods: using `numpy.random.multivariate_normal` and using Cholesky decomposition. Both methods allow you to generate samples with a specified correlation structure.\n",
    "\n",
    "### By leveraging these techniques, you can simulate correlated data for various applications, such as testing algorithms, performing simulations, and conducting statistical analyses."
   ]
  }
 ],
 "metadata": {
  "language_info": {
   "name": "python"
  }
 },
 "nbformat": 4,
 "nbformat_minor": 2
}
