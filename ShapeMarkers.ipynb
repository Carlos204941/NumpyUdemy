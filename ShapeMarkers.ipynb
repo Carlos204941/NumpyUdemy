{
 "cells": [
  {
   "cell_type": "markdown",
   "metadata": {},
   "source": [
    "### Changing the Shape of Markers in Matplotlib\n",
    "\n",
    "Matplotlib provides a wide variety of marker shapes that you can use to customize your plots. You can specify the marker shape using the `marker` parameter in plotting functions like `plot()` and `scatter()`.\n",
    "\n",
    "### Key Points to Consider\n",
    "\n",
    "1.  Marker Styles: Matplotlib supports many predefined marker styles such as circles, squares, triangles, and more.\n",
    "2.  Customization: You can further customize markers by changing their size, color, and edge properties.\n",
    "3.  Usage: The `marker` parameter accepts a string that specifies the shape of the marker.\n",
    "\n",
    "### Common Marker Styles\n",
    "\n",
    "Here are some common marker styles you can use:\n",
    "\n",
    "*   `'.'`: point\n",
    "*   `','`: pixel\n",
    "*   `'o'`: circle\n",
    "*   `'v'`: triangle\\_down\n",
    "*   `'^'`: triangle\\_up\n",
    "*   `'<'`: triangle\\_left\n",
    "*   `'>'`: triangle\\_right\n",
    "*   `'1'`: tri\\_down\n",
    "*   `'2'`: tri\\_up\n",
    "*   `'3'`: tri\\_left\n",
    "*   `'4'`: tri\\_right\n",
    "*   `'8'`: octagon\n",
    "*   `'s'`: square\n",
    "*   `'p'`: pentagon\n",
    "*   `'*'`: star\n",
    "*   `'h'`: hexagon1\n",
    "*   `'H'`: hexagon2\n",
    "*   `'+'`: plus\n",
    "*   `'x'`: x\n",
    "*   `'D'`: diamond\n",
    "*   `'d'`: thin\\_diamond\n",
    "*   `'|'`: vline\n",
    "*   `'_'`: hline\n",
    "\n",
    "###"
   ]
  },
  {
   "cell_type": "code",
   "execution_count": null,
   "metadata": {},
   "outputs": [],
   "source": [
    "import numpy as np\n",
    "import matplotlib.pyplot as plt\n",
    "\n",
    "# Create data points\n",
    "x = np.linspace(0, 10, 10)\n",
    "y = np.sin(x)\n",
    "\n",
    "# Plot with different marker shapes\n",
    "plt.plot(x, y, marker='o', linestyle='-', color='b', label='Circle')\n",
    "plt.plot(x, y + 0.5, marker='s', linestyle='-', color='r', label='Square')\n",
    "plt.plot(x, y + 1, marker='^', linestyle='-', color='g', label='Triangle Up')\n",
    "plt.plot(x, y + 1.5, marker='*', linestyle='-', color='m', label='Star')\n",
    "\n",
    "# Adding legend\n",
    "plt.legend()\n",
    "\n",
    "# Adding title and labels\n",
    "plt.title(\"Line Plot with Different Marker Shapes\")\n",
    "plt.xlabel(\"x axis\")\n",
    "plt.ylabel(\"y axis\")\n",
    "\n",
    "# Display the plot\n",
    "plt.show()\n"
   ]
  },
  {
   "cell_type": "markdown",
   "metadata": {},
   "source": [
    "#### Scatter Plot with Different Marker Shapes"
   ]
  },
  {
   "cell_type": "code",
   "execution_count": null,
   "metadata": {},
   "outputs": [],
   "source": [
    "import numpy as np\n",
    "import matplotlib.pyplot as plt\n",
    "\n",
    "# Create data points\n",
    "x = np.linspace(0, 10, 10)\n",
    "y = np.sin(x)\n",
    "\n",
    "# Scatter plot with different marker shapes\n",
    "plt.scatter(x, y, marker='o', color='b', label='Circle')\n",
    "plt.scatter(x, y + 0.5, marker='s', color='r', label='Square')\n",
    "plt.scatter(x, y + 1, marker='^', color='g', label='Triangle Up')\n",
    "plt.scatter(x, y + 1.5, marker='*', color='m', label='Star')\n",
    "\n",
    "# Adding legend\n",
    "plt.legend()\n",
    "\n",
    "# Adding title and labels\n",
    "plt.title(\"Scatter Plot with Different Marker Shapes\")\n",
    "plt.xlabel(\"x axis\")\n",
    "plt.ylabel(\"y axis\")\n",
    "\n",
    "# Display the plot\n",
    "plt.show()\n"
   ]
  },
  {
   "cell_type": "markdown",
   "metadata": {},
   "source": [
    "### Summary\n",
    "\n",
    "In this guide, we covered how to change the shape of markers in Matplotlib plots. We explored various predefined marker styles and demonstrated their usage in both line and scatter plots.\n",
    "\n",
    "By customizing marker shapes, you can make your plots more informative and visually appealing. Remember to use the `marker` parameter to specify the desired shape and combine it with other customization options for better results."
   ]
  }
 ],
 "metadata": {
  "language_info": {
   "name": "python"
  }
 },
 "nbformat": 4,
 "nbformat_minor": 2
}
