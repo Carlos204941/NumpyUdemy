{
 "cells": [
  {
   "cell_type": "markdown",
   "metadata": {},
   "source": [
    "###   \n",
    "\n",
    "### Randomness and Statistics in NumPy\n",
    "\n",
    "NumPy provides a comprehensive suite of functions for generating random numbers and performing statistical operations. These functionalities are essential for simulations, data analysis, and various scientific computations.\n",
    "\n",
    "### Key Points to Consider\n",
    "\n",
    "1.  Random Number Generation: NumPy's `random` module offers a variety of functions to generate random numbers from different distributions.\n",
    "2.  Statistical Functions: NumPy includes functions to compute basic statistical measures such as mean, median, standard deviation, and more.\n",
    "3.  Seeding: You can seed the random number generator to produce reproducible results.\n",
    "\n",
    "### Random Number Generation\n",
    "\n",
    "#### Basic Random Number Generation\n",
    "\n",
    "*   Uniform Distribution: Generate random numbers uniformly distributed between 0 and 1.\n",
    "\n",
    "###"
   ]
  },
  {
   "cell_type": "code",
   "execution_count": null,
   "metadata": {},
   "outputs": [],
   "source": [
    "import numpy as np\n",
    "\n",
    "# Create an RNG instance\n",
    "rng = np.random.default_rng()\n",
    "\n",
    "# Generate a single random float between 0 and 1\n",
    "random_float = rng.random()\n",
    "print(\"Random float:\", random_float)\n",
    "\n",
    "# Generate an array of random floats\n",
    "random_array = rng.random(size=(3, 2))\n",
    "print(\"Random array:\\n\", random_array)\n"
   ]
  },
  {
   "cell_type": "markdown",
   "metadata": {},
   "source": [
    "#### Random Integers\n",
    "\n",
    "*   Uniform Distribution of Integers: Generate random integers within a specified range.\n",
    "\n",
    "###   \n",
    "\n",
    "###"
   ]
  },
  {
   "cell_type": "code",
   "execution_count": null,
   "metadata": {},
   "outputs": [],
   "source": [
    "# Generate a single random integer between 0 and 10\n",
    "random_int = rng.integers(low=0, high=10)\n",
    "print(\"Random integer:\", random_int)\n",
    "\n",
    "# Generate an array of random integers\n",
    "random_int_array = rng.integers(low=0, high=10, size=(3, 2))\n",
    "print(\"Random integer array:\\n\", random_int_array)\n"
   ]
  },
  {
   "cell_type": "markdown",
   "metadata": {},
   "source": [
    "####   \n",
    "\n",
    "#### Normal Distribution\n",
    "\n",
    "*   Standard Normal Distribution: Generate random numbers from a standard normal distribution (mean = 0, standard deviation = 1).\n",
    "\n",
    "###"
   ]
  },
  {
   "cell_type": "code",
   "execution_count": null,
   "metadata": {},
   "outputs": [],
   "source": [
    "# Generate a single random float from a standard normal distribution\n",
    "random_normal = rng.standard_normal()\n",
    "print(\"Random normal float:\", random_normal)\n",
    "\n",
    "# Generate an array of random floats from a standard normal distribution\n",
    "random_normal_array = rng.standard_normal(size=10)\n",
    "print(\"Random normal array:\\n\", random_normal_array)\n"
   ]
  },
  {
   "cell_type": "markdown",
   "metadata": {},
   "source": [
    "####   \n",
    "\n",
    "#### Custom Distributions\n",
    "\n",
    "*   Uniform Distribution in a Custom Range: Generate random numbers uniformly distributed within a specified range.\n",
    "\n",
    "####"
   ]
  },
  {
   "cell_type": "code",
   "execution_count": null,
   "metadata": {},
   "outputs": [],
   "source": [
    "# Generate a single random float between 10 and 50\n",
    "random_uniform = rng.uniform(low=10.0, high=50.0)\n",
    "print(\"Random uniform float:\", random_uniform)\n",
    "\n",
    "# Generate an array of random floats between 10 and 50\n",
    "random_uniform_array = rng.uniform(low=10.0, high=50.0, size=(4, 3))\n",
    "print(\"Random uniform array:\\n\", random_uniform_array)\n"
   ]
  },
  {
   "cell_type": "markdown",
   "metadata": {},
   "source": [
    "### Statistical Functions\n",
    "\n",
    "NumPy provides a variety of functions to compute statistical measures.\n",
    "\n",
    "#### Mean, Median, and Standard Deviation\n",
    "\n",
    "####"
   ]
  },
  {
   "cell_type": "code",
   "execution_count": null,
   "metadata": {},
   "outputs": [],
   "source": [
    "data = np.array([1, 2, 3, 4, 5, 6, 7, 8, 9, 10])\n",
    "\n",
    "# Compute mean\n",
    "mean = np.mean(data)\n",
    "print(\"Mean:\", mean)\n",
    "\n",
    "# Compute median\n",
    "median = np.median(data)\n",
    "print(\"Median:\", median)\n",
    "\n",
    "# Compute standard deviation\n",
    "std_dev = np.std(data)\n",
    "print(\"Standard Deviation:\", std_dev)\n"
   ]
  },
  {
   "cell_type": "markdown",
   "metadata": {},
   "source": [
    "#### Other Statistical Functions\n",
    "\n",
    "*   Variance: Measure of the spread of the data.\n",
    "\n",
    "###"
   ]
  },
  {
   "cell_type": "code",
   "execution_count": null,
   "metadata": {},
   "outputs": [],
   "source": [
    "variance = np.var(data)\n",
    "print(\"Variance:\", variance)\n"
   ]
  },
  {
   "cell_type": "markdown",
   "metadata": {},
   "source": [
    "*   Percentile: Compute the nth percentile of the data.\n",
    "\n",
    "####   \n",
    "\n",
    "###"
   ]
  },
  {
   "cell_type": "code",
   "execution_count": null,
   "metadata": {},
   "outputs": [],
   "source": [
    "percentile_90 = np.percentile(data, 90)\n",
    "print(\"90th Percentile:\", percentile_90)\n"
   ]
  },
  {
   "cell_type": "markdown",
   "metadata": {},
   "source": [
    "### Seeding the Random Number Generator\n",
    "\n",
    "Seeding the random number generator ensures reproducibility of the results."
   ]
  },
  {
   "cell_type": "code",
   "execution_count": null,
   "metadata": {},
   "outputs": [],
   "source": [
    "# Seed the RNG\n",
    "rng = np.random.default_rng(seed=42)\n",
    "\n",
    "# Generate random numbers\n",
    "random_numbers = rng.random(size=5)\n",
    "print(\"Random numbers with seed 42:\", random_numbers)\n"
   ]
  },
  {
   "cell_type": "markdown",
   "metadata": {},
   "source": [
    "### Summary\n",
    "\n",
    "In this guide, we covered the basics of randomness and statistics in NumPy. We explored how to generate random numbers from various distributions, compute basic statistical measures, and seed the random number generator for reproducibility.\n",
    "\n",
    "### By leveraging these functionalities, you can perform a wide range of simulations and data analyses efficiently."
   ]
  }
 ],
 "metadata": {
  "language_info": {
   "name": "python"
  }
 },
 "nbformat": 4,
 "nbformat_minor": 2
}
