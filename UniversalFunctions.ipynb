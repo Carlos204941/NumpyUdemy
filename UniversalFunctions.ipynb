{
 "cells": [
  {
   "cell_type": "code",
   "execution_count": null,
   "metadata": {},
   "outputs": [],
   "source": []
  },
  {
   "cell_type": "markdown",
   "metadata": {},
   "source": [
    "# Universal Functions in NumPy\n",
    "\n",
    "Universal functions, or ufuncs, are a core feature of NumPy that allow for efficient element-wise operations on arrays. They support broadcasting, type casting, and other standard features, making them highly versatile for numerical computations.\n",
    "\n",
    "## Key Points to Consider\n",
    "\n",
    "- **Element-wise Operations**: Ufuncs operate on `ndarrays` element-by-element, which means they apply a given function to each element of the array independently.\n",
    "- **Broadcasting**: Ufuncs support broadcasting, allowing operations on arrays of different shapes.\n",
    "- **Type Casting**: Ufuncs can handle different data types and perform necessary type casting.\n",
    "- **Performance**: Ufuncs are implemented in compiled C code, making them very fast.\n",
    "- **Custom Ufuncs**: You can create custom ufuncs using the `numpy.frompyfunc` factory function.\n",
    "\n",
    "## Examples of Ufuncs\n",
    "\n",
    "Here are some examples of commonly used ufuncs in NumPy:\n",
    "\n",
    "- **Arithmetic Operations**:\n",
    "  - `np.add(a, b)`: Element-wise addition.\n",
    "  - `np.subtract(a, b)`: Element-wise subtraction.\n",
    "  - `np.multiply(a, b)`: Element-wise multiplication.\n",
    "  - `np.divide(a, b)`: Element-wise division.\n",
    "\n",
    "- **Trigonometric Functions**:\n",
    "  - `np.sin(a)`: Element-wise sine.\n",
    "  - `np.cos(a)`: Element-wise cosine.\n",
    "  - `np.tan(a)`: Element-wise tangent.\n",
    "\n",
    "- **Exponential and Logarithmic Functions**:\n",
    "  - `np.exp(a)`: Element-wise exponential.\n",
    "  - `np.log(a)`: Element-wise natural logarithm.\n",
    "  - `np.log10(a)`: Element-wise base-10 logarithm.\n",
    "\n",
    "- **Statistical Functions**:\n",
    "  - `np.mean(a)`: Mean of the array elements.\n",
    "  - `np.median(a)`: Median of the array elements.\n",
    "  - `np.std(a)`: Standard deviation of the array elements.\n",
    "\n",
    "## Code Implementation\n",
    "\n",
    "Let's see some examples of using ufuncs in NumPy:\n",
    "\n"
   ]
  },
  {
   "cell_type": "code",
   "execution_count": null,
   "metadata": {},
   "outputs": [],
   "source": [
    "import numpy as np\n",
    "\n",
    "# Example arrays\n",
    "a = np.array([1, 2, 3, 4])\n",
    "b = np.array([5, 6, 7, 8])\n",
    "\n",
    "# Arithmetic operations\n",
    "print(\"Addition:\", np.add(a, b))  # [ 6  8 10 12]\n",
    "print(\"Subtraction:\", np.subtract(a, b))  # [-4 -4 -4 -4]\n",
    "print(\"Multiplication:\", np.multiply(a, b))  # [ 5 12 21 32]\n",
    "print(\"Division:\", np.divide(a, b))  # [0.2 0.33333333 0.42857143 0.5]\n",
    "\n",
    "# Trigonometric functions\n",
    "print(\"Sine:\", np.sin(a))  # [0.84147098 0.90929743 0.14112001 -0.7568025 ]\n",
    "print(\"Cosine:\", np.cos(a))  # [ 0.54030231 -0.41614684 -0.9899925  -0.65364362]\n",
    "print(\"Tangent:\", np.tan(a))  # [ 1.55740772 -2.18503986 -0.14254654  1.15782128]\n",
    "\n",
    "# Exponential and logarithmic functions\n",
    "print(\"Exponential:\", np.exp(a))  # [ 2.71828183  7.3890561  20.08553692 54.59815003]\n",
    "print(\"Natural Logarithm:\", np.log(a))  # [0.         0.69314718 1.09861229 1.38629436]\n",
    "print(\"Base-10 Logarithm:\", np.log10(a))  # [0.         0.30103    0.47712125 0.60205999]\n",
    "\n",
    "# Statistical functions\n",
    "print(\"Mean:\", np.mean(a))  # 2.5\n",
    "print(\"Median:\", np.median(a))  # 2.5\n",
    "print(\"Standard Deviation:\", np.std(a))  # 1.118033988749895\n"
   ]
  },
  {
   "cell_type": "markdown",
   "metadata": {},
   "source": [
    "### Summary\n",
    "\n",
    "In this guide, we covered the basics of universal functions (ufuncs) in NumPy. Ufuncs are powerful tools for performing element-wise operations on arrays, supporting features like broadcasting and type casting. They are implemented in compiled C code, ensuring high performance. We also provided examples of common ufuncs and demonstrated their usage in Python code.\n",
    "\n",
    "By leveraging ufuncs, you can write more efficient and concise numerical computations in your Python programs."
   ]
  }
 ],
 "metadata": {
  "kernelspec": {
   "display_name": "Python 3",
   "language": "python",
   "name": "python3"
  },
  "language_info": {
   "codemirror_mode": {
    "name": "ipython",
    "version": 3
   },
   "file_extension": ".py",
   "mimetype": "text/x-python",
   "name": "python",
   "nbconvert_exporter": "python",
   "pygments_lexer": "ipython3",
   "version": "3.12.0"
  }
 },
 "nbformat": 4,
 "nbformat_minor": 2
}
